{
  "nbformat": 4,
  "nbformat_minor": 0,
  "metadata": {
    "colab": {
      "provenance": [],
      "include_colab_link": true
    },
    "kernelspec": {
      "name": "python3",
      "display_name": "Python 3"
    },
    "language_info": {
      "name": "python"
    }
  },
  "cells": [
    {
      "cell_type": "markdown",
      "metadata": {
        "id": "view-in-github",
        "colab_type": "text"
      },
      "source": [
        "<a href=\"https://colab.research.google.com/github/vijay-py-code/My-project/blob/master/NIFTYStockData.ipynb\" target=\"_parent\"><img src=\"https://colab.research.google.com/assets/colab-badge.svg\" alt=\"Open In Colab\"/></a>"
      ]
    },
    {
      "cell_type": "code",
      "execution_count": 1,
      "metadata": {
        "id": "mH0p9qMUOoDm",
        "outputId": "b8dc14fd-1983-4f6a-cf6f-57cc1dd0516e",
        "colab": {
          "base_uri": "https://localhost:8080/",
          "height": 130
        }
      },
      "outputs": [
        {
          "output_type": "error",
          "ename": "SyntaxError",
          "evalue": "ignored",
          "traceback": [
            "\u001b[0;36m  File \u001b[0;32m\"<ipython-input-1-0dca553b6aba>\"\u001b[0;36m, line \u001b[0;32m2\u001b[0m\n\u001b[0;31m    pip install nsepy\u001b[0m\n\u001b[0m        ^\u001b[0m\n\u001b[0;31mSyntaxError\u001b[0m\u001b[0;31m:\u001b[0m invalid syntax\n"
          ]
        }
      ],
      "source": [
        "# You may need to pip install nsepy, pandas \n",
        "pip install nsepy"
      ]
    },
    {
      "cell_type": "code",
      "source": [
        "from nsepy import get_history\n",
        "from datetime import date, datetime\n",
        "import pandas as pd"
      ],
      "metadata": {
        "id": "gP3uIzuG58fh"
      },
      "execution_count": null,
      "outputs": []
    },
    {
      "cell_type": "code",
      "source": [
        "print(\"Start Time: \",datetime.today())"
      ],
      "metadata": {
        "id": "JmnsZS8eOo4A"
      },
      "execution_count": null,
      "outputs": []
    },
    {
      "cell_type": "code",
      "source": [
        "def fetchData(ticker,startDate,endDate):\n",
        "    \n",
        "    # save O-H-L-C columns\n",
        "    stock = get_history(symbol=ticker, start=startDate, end=endDate)\n",
        "    df = pd.DataFrame()\n",
        "    stock.reset_index(inplace=True)\n",
        "    df['Date'] = stock['Date']\n",
        "    df['Open'] = stock['Open']\n",
        "    df['High'] = stock['High']\n",
        "    df['Low'] = stock['Low']\n",
        "    df['Close'] = stock['Close']\n",
        "    \n",
        "    return df\n",
        "\n",
        "\n",
        "# LIST OF NIFTY 50 Stocks\n",
        "nifty50list = ['ADANIPORTS','ASIANPAINT', 'AXISBANK', 'BAJAJ-AUTO', 'BAJFINANCE', 'BAJAJFINSV', 'BPCL', 'BHARTIARTL',\n",
        " 'BRITANNIA', 'CIPLA', 'COALINDIA', 'DIVISLAB', 'DRREDDY', 'EICHERMOT', 'GRASIM', 'HCLTECH', 'HDFCBANK', 'HDFCLIFE',\n",
        " 'HEROMOTOCO', 'HINDALCO', 'HINDUNILVR', 'HDFC', 'ICICIBANK', 'ITC', 'IOC', 'INDUSINDBK', 'INFY', 'JSWSTEEL', 'KOTAKBANK',\n",
        " 'LT', 'M&M', 'MARUTI', 'NTPC', 'NESTLEIND', 'ONGC', 'POWERGRID', 'RELIANCE', 'SBILIFE', 'SHREECEM', 'SBIN', 'SUNPHARMA',\n",
        " 'TCS', 'TATACONSUM', 'TATAMOTORS', 'TATASTEEL', 'TECHM', 'TITAN', 'UPL', 'ULTRACEMCO', 'WIPRO']\n",
        "start_date = date(2014,1,1)\n",
        "end_date = date(2022,1,21)\n",
        "\n",
        "#path to save the data. Set this path for yourself\n",
        "path = \"C:\\\\Users\\\\Download\\\\\"\n",
        "\n",
        "\n",
        "for ticker in nifty50list:\n",
        "    \n",
        "    #fetch data for this stock\n",
        "    tickerData = fetchData(ticker,start_date,end_date)\n",
        "    \n",
        "    tickerData.to_csv(path+ ticker+'.csv')\n",
        "    "
      ],
      "metadata": {
        "id": "14wgcFNMOtho"
      },
      "execution_count": null,
      "outputs": []
    },
    {
      "cell_type": "code",
      "source": [
        "print(\"End Time: \",datetime.today())"
      ],
      "metadata": {
        "id": "VkfUTrIDOuq_"
      },
      "execution_count": null,
      "outputs": []
    },
    {
      "cell_type": "markdown",
      "source": [],
      "metadata": {
        "id": "qvJFcWDjOrbl"
      }
    }
  ]
}